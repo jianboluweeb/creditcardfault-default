{
 "cells": [
  {
   "cell_type": "code",
   "execution_count": 25,
   "metadata": {},
   "outputs": [],
   "source": [
    "import pandas as pd\n",
    "import numpy as np\n",
    "from matplotlib import pyplot as plt\n",
    "%matplotlib inline\n",
    "from sklearn.preprocessing import StandardScaler\n",
    "from sklearn.linear_model import LogisticRegression\n",
    "from sklearn.model_selection import KFold\n",
    "from sklearn.naive_bayes import GaussianNB\n",
    "from sklearn.metrics import f1_score\n",
    "from sklearn.metrics import roc_auc_score\n",
    "from sklearn.neural_network import MLPClassifier\n",
    "from sklearn.model_selection import StratifiedKFold\n",
    "import seaborn as sns;\n",
    "from sklearn.manifold import TSNE\n",
    "from sklearn.decomposition import PCA\n",
    "from sklearn.model_selection import GridSearchCV\n",
    "from sklearn.ensemble import GradientBoostingClassifier\n",
    "from sklearn.ensemble import RandomForestClassifier\n",
    "from sklearn.ensemble import AdaBoostClassifier\n",
    "from sklearn.tree import DecisionTreeClassifier\n",
    "from sklearn.metrics import f1_score\n",
    "from sklearn.metrics import classification_report\n",
    "from sklearn.metrics import confusion_matrix\n",
    "from sklearn import tree\n",
    "import time\n",
    "from sklearn import metrics\n",
    "from sklearn.model_selection import train_test_split\n",
    "from imblearn.over_sampling import SMOTE\n",
    "from imblearn.under_sampling import NearMiss\n",
    "from imblearn.pipeline import Pipeline\n",
    "\n",
    "def stdscaler(df):\n",
    "    scaler = StandardScaler()\n",
    "    scaler.fit(df)\n",
    "    scX_df = scaler.transform(df)\n",
    "    df=pd.DataFrame(scX_df, index =df.index,columns =df.columns  )\n",
    "    return df\n",
    "def kfoldtest(kfoldn,model,Xtrain_df,ytrain_df):\n",
    "    kf=StratifiedKFold(n_splits=kfoldn)\n",
    "    accu=[]\n",
    "    auc=[]\n",
    "    f1 =[]\n",
    "    aab =[]\n",
    "    dcd = []\n",
    "    tim = []\n",
    "    kf.get_n_splits(Xtrain_df,ytrain_df)\n",
    "    \n",
    "    for train_index, test_index in kf.split(Xtrain_df,ytrain_df):\n",
    "        #print(\"TRAIN:\", len(train_index), \"TEST:\", len(test_index))\n",
    "        t1 =time.time()\n",
    "        X_train, X_test = Xtrain_df.iloc[train_index], Xtrain_df.iloc[test_index]\n",
    "        y_train, y_test = ytrain_df.iloc[train_index], ytrain_df.iloc[test_index]\n",
    "        \n",
    "        \"\"\"\n",
    "        if samplechoice == \"SMOTE\":\n",
    "            smt = SMOTE()\n",
    "            X_train,  y_train = smt.fit_sample(X_train , y_train)\n",
    "        elif samplechoice == \"NearMiss\":\n",
    "            nr = NearMiss()\n",
    "            X_train,  y_train = nr.fit_sample(X_train , y_train)\n",
    "        \"\"\"    \n",
    "    \n",
    "        model.fit(X_train,y_train)\n",
    "        try:\n",
    "            accu.append(model.score(X_test,y_test))\n",
    "        except:\n",
    "            print(\"This model have no build-in score.\")\n",
    "            \n",
    "        auc.append(roc_auc_score(y_test,model.predict(X_test)))\n",
    "        f1.append(f1_score(y_test, model.predict(X_test).astype(int)))\n",
    "        tim.append(time.time()-t1)\n",
    "        cm1=confusion_matrix(test_y, clf.predict(test_data),labels = [1,0])\n",
    "        print(\"cv result:\")\n",
    "        print(cm1)\n",
    "        sensitivity1 = cm1[0,0]/(cm1[0,0]+cm1[0,1])\n",
    "        aab.append(sensitivity1)\n",
    "\n",
    "        specificity1 = cm1[1,1]/(cm1[1,0]+cm1[1,1])\n",
    "        dcd.append(specificity1)\n",
    "    return accu,auc,f1,aab,dcd,tim\n",
    "\n",
    "def testresult(model,name,Xtrain_df,ytrain_df):\n",
    "    fpr, tpr, thresholds = metrics.roc_curve(ytrain_df, model.predict_proba(Xtrain_df)[:,1], pos_label=1)\n",
    "    label =(name+' area='+str(roc_auc_score(ytrain_df, model.predict_proba(Xtrain_df)[:,1]))[:4])\n",
    "    f1=(f1_score(ytrain_df, model.predict(Xtrain_df).astype(int)))\n",
    "    accu = model.score(Xtrain_df,ytrain_df)\n",
    "    print(\"test result:\")\n",
    "    print(confusion_matrix(ytrain_df, model.predict(Xtrain_df), labels=[1,0]))\n",
    "    return fpr,tpr,label,f1,accu\n",
    "sns.set_style(\"whitegrid\")\n",
    "sns.set(rc={'figure.figsize':(11.7,8.27)})\n"
   ]
  },
  {
   "cell_type": "code",
   "execution_count": null,
   "metadata": {},
   "outputs": [],
   "source": []
  },
  {
   "cell_type": "code",
   "execution_count": 26,
   "metadata": {},
   "outputs": [],
   "source": [
    "file_name = 'creditcard 2.csv'\n",
    "data =pd.read_csv(file_name)\n",
    "del data['Time']\n",
    "u=StandardScaler().fit_transform(np.array(data['Amount']).reshape(-1,1))\n",
    "data['Amount']=pd.Series(u[:,0],index =data.index)\n",
    "train_y = data['Class'].copy()\n",
    "train_data =data.drop(columns='Class')\n",
    "\n",
    "train_data,test_data,train_y,test_y = train_test_split(\n",
    "    train_data, train_y, test_size=0.20, random_state=42)\n"
   ]
  },
  {
   "cell_type": "code",
   "execution_count": 27,
   "metadata": {},
   "outputs": [],
   "source": [
    "testroc_holder=[]\n",
    "testlabel_holder = []\n",
    "test_result = []\n",
    "samplechoice = \"NearMiss\""
   ]
  },
  {
   "cell_type": "code",
   "execution_count": 28,
   "metadata": {
    "scrolled": false
   },
   "outputs": [
    {
     "name": "stdout",
     "output_type": "stream",
     "text": [
      "Pipeline(memory=None,\n",
      "         steps=[('lr',\n",
      "                 LogisticRegression(C=0.001, class_weight=None, dual=False,\n",
      "                                    fit_intercept=True, intercept_scaling=1,\n",
      "                                    l1_ratio=None, max_iter=3000,\n",
      "                                    multi_class='auto', n_jobs=None,\n",
      "                                    penalty='l2', random_state=None,\n",
      "                                    solver='lbfgs', tol=0.0001, verbose=0,\n",
      "                                    warm_start=False))],\n",
      "         verbose=False)\n",
      "Pipeline(memory=None,\n",
      "         steps=[('mlp',\n",
      "                 MLPClassifier(activation='relu', alpha=0.0001,\n",
      "                               batch_size='auto', beta_1=0.9, beta_2=0.999,\n",
      "                               early_stopping=False, epsilon=1e-08,\n",
      "                               hidden_layer_sizes=(50, 100, 50),\n",
      "                               learning_rate='constant',\n",
      "                               learning_rate_init=0.001, max_fun=15000,\n",
      "                               max_iter=3000, momentum=0.9, n_iter_no_change=10,\n",
      "                               nesterovs_momentum=True, power_t=0.5,\n",
      "                               random_state=None, shuffle=True, solver='sgd',\n",
      "                               tol=0.0001, validation_fraction=0.1,\n",
      "                               verbose=False, warm_start=False))],\n",
      "         verbose=False)\n",
      "Pipeline(memory=None,\n",
      "         steps=[('dtc',\n",
      "                 DecisionTreeClassifier(ccp_alpha=0.0, class_weight='balanced',\n",
      "                                        criterion='gini', max_depth=2,\n",
      "                                        max_features='auto',\n",
      "                                        max_leaf_nodes=None,\n",
      "                                        min_impurity_decrease=0.0,\n",
      "                                        min_impurity_split=None,\n",
      "                                        min_samples_leaf=1, min_samples_split=2,\n",
      "                                        min_weight_fraction_leaf=0.0,\n",
      "                                        presort='deprecated', random_state=7,\n",
      "                                        splitter='best'))],\n",
      "         verbose=False)\n",
      "Pipeline(memory=None,\n",
      "         steps=[('gbc',\n",
      "                 GradientBoostingClassifier(ccp_alpha=0.0,\n",
      "                                            criterion='friedman_mse', init=None,\n",
      "                                            learning_rate=0.1, loss='deviance',\n",
      "                                            max_depth=3, max_features=None,\n",
      "                                            max_leaf_nodes=None,\n",
      "                                            min_impurity_decrease=0.0,\n",
      "                                            min_impurity_split=None,\n",
      "                                            min_samples_leaf=1,\n",
      "                                            min_samples_split=2,\n",
      "                                            min_weight_fraction_leaf=0.0,\n",
      "                                            n_estimators=10,\n",
      "                                            n_iter_no_change=None,\n",
      "                                            presort='deprecated',\n",
      "                                            random_state=None, subsample=0.8,\n",
      "                                            tol=0.0001, validation_fraction=0.1,\n",
      "                                            verbose=0, warm_start=False))],\n",
      "         verbose=False)\n",
      "Pipeline(memory=None,\n",
      "         steps=[('rfc',\n",
      "                 RandomForestClassifier(bootstrap=True, ccp_alpha=0.0,\n",
      "                                        class_weight=None, criterion='gini',\n",
      "                                        max_depth=3, max_features='auto',\n",
      "                                        max_leaf_nodes=None, max_samples=None,\n",
      "                                        min_impurity_decrease=0.0,\n",
      "                                        min_impurity_split=None,\n",
      "                                        min_samples_leaf=1, min_samples_split=2,\n",
      "                                        min_weight_fraction_leaf=0.0,\n",
      "                                        n_estimators=500, n_jobs=None,\n",
      "                                        oob_score=False, random_state=42,\n",
      "                                        verbose=0, warm_start=False))],\n",
      "         verbose=False)\n",
      "Pipeline(memory=None,\n",
      "         steps=[('rfc',\n",
      "                 VotingClassifier(estimators=[('lr',\n",
      "                                               LogisticRegression(C=0.01,\n",
      "                                                                  class_weight=None,\n",
      "                                                                  dual=False,\n",
      "                                                                  fit_intercept=True,\n",
      "                                                                  intercept_scaling=1,\n",
      "                                                                  l1_ratio=None,\n",
      "                                                                  max_iter=3000,\n",
      "                                                                  multi_class='auto',\n",
      "                                                                  n_jobs=None,\n",
      "                                                                  penalty='l2',\n",
      "                                                                  random_state=1,\n",
      "                                                                  solver='lbfgs',\n",
      "                                                                  tol=0.0001,\n",
      "                                                                  verbose=0,\n",
      "                                                                  warm_start=False)),\n",
      "                                              ('rf',\n",
      "                                               RandomForestClassifier(bootstrap=True,...\n",
      "                                                                      max_samples=None,\n",
      "                                                                      min_impurity_decrease=0.0,\n",
      "                                                                      min_impurity_split=None,\n",
      "                                                                      min_samples_leaf=1,\n",
      "                                                                      min_samples_split=2,\n",
      "                                                                      min_weight_fraction_leaf=0.0,\n",
      "                                                                      n_estimators=500,\n",
      "                                                                      n_jobs=None,\n",
      "                                                                      oob_score=False,\n",
      "                                                                      random_state=1,\n",
      "                                                                      verbose=0,\n",
      "                                                                      warm_start=False)),\n",
      "                                              ('gnb',\n",
      "                                               GaussianNB(priors=None,\n",
      "                                                          var_smoothing=1e-09))],\n",
      "                                  flatten_transform=True, n_jobs=None,\n",
      "                                  voting='soft', weights=None))],\n",
      "         verbose=False)\n"
     ]
    }
   ],
   "source": [
    "from sklearn.externals import joblib\n",
    "est_holder = []\n",
    "for i in range(6):\n",
    "    u=joblib.load('model{}.pkl'.format(samplechoice+str(i)))\n",
    "    u.steps.pop(0)              \n",
    "    est_holder.append(u)\n",
    "    print(est_holder[i])\n",
    "    \n",
    "\n",
    "\n"
   ]
  },
  {
   "cell_type": "code",
   "execution_count": 29,
   "metadata": {},
   "outputs": [
    {
     "name": "stdout",
     "output_type": "stream",
     "text": [
      "test result:\n",
      "[[   79    19]\n",
      " [  116 56748]]\n"
     ]
    }
   ],
   "source": [
    "model = est_holder[0]\n",
    "\n",
    "fpr,tpr,label,f1,accu=testresult(model,\"LogisticRegression\",test_data,test_y)\n",
    "\n",
    "testroc_holder.append([fpr,tpr])\n",
    "testlabel_holder.append(label)\n",
    "test_result.append(pd.DataFrame([[\"LogisticRegression\",np.average(accu),\n",
    "                       np.average(f1)]],\n",
    "                     columns=[\"model names\",'CVaccuracy','CVF1']))\n"
   ]
  },
  {
   "cell_type": "code",
   "execution_count": 30,
   "metadata": {},
   "outputs": [
    {
     "name": "stdout",
     "output_type": "stream",
     "text": [
      "test result:\n",
      "[[   96     2]\n",
      " [33525 23339]]\n"
     ]
    }
   ],
   "source": [
    "model = est_holder[1]\n",
    "\n",
    "fpr,tpr,label,f1,accu=testresult(model,\"MLP\",test_data,test_y)\n",
    "\n",
    "testroc_holder.append([fpr,tpr])\n",
    "testlabel_holder.append(label)\n",
    "test_result.append(pd.DataFrame([[\"MLP\",np.average(accu),\n",
    "                       np.average(f1)]],\n",
    "                     columns=[\"model names\",'CVaccuracy','CVF1']))"
   ]
  },
  {
   "cell_type": "code",
   "execution_count": 31,
   "metadata": {},
   "outputs": [
    {
     "name": "stdout",
     "output_type": "stream",
     "text": [
      "test result:\n",
      "[[   92     6]\n",
      " [30129 26735]]\n"
     ]
    }
   ],
   "source": [
    "model = est_holder[2]\n",
    "\n",
    "fpr,tpr,label,f1,accu=testresult(model,\"DecisionTree\",test_data,test_y)\n",
    "\n",
    "testroc_holder.append([fpr,tpr])\n",
    "testlabel_holder.append(label)\n",
    "test_result.append(pd.DataFrame([[\"DecisionTree\",np.average(accu),\n",
    "                       np.average(f1)]],\n",
    "                     columns=[\"model names\",'CVaccuracy','CVF1']))"
   ]
  },
  {
   "cell_type": "code",
   "execution_count": 32,
   "metadata": {},
   "outputs": [
    {
     "name": "stdout",
     "output_type": "stream",
     "text": [
      "test result:\n",
      "[[   98     0]\n",
      " [38458 18406]]\n"
     ]
    }
   ],
   "source": [
    "model =est_holder[3]\n",
    "\n",
    "fpr,tpr,label,f1,accu=testresult(model,\"GradientBoosting\",test_data,test_y)\n",
    "\n",
    "testroc_holder.append([fpr,tpr])\n",
    "testlabel_holder.append(label)\n",
    "test_result.append(pd.DataFrame([[\"GradientBoosting\",np.average(accu),\n",
    "                       np.average(f1)]],\n",
    "                     columns=[\"model names\",'CVaccuracy','CVF1']))"
   ]
  },
  {
   "cell_type": "code",
   "execution_count": 33,
   "metadata": {},
   "outputs": [
    {
     "name": "stdout",
     "output_type": "stream",
     "text": [
      "test result:\n",
      "[[   95     3]\n",
      " [34556 22308]]\n"
     ]
    }
   ],
   "source": [
    "model = est_holder[4]\n",
    "\n",
    "fpr,tpr,label,f1,accu=testresult(model,\"RandomForest\",test_data,test_y)\n",
    "\n",
    "testroc_holder.append([fpr,tpr])\n",
    "testlabel_holder.append(label)\n",
    "test_result.append(pd.DataFrame([[\"RandomForest\",np.average(accu),\n",
    "                       np.average(f1)]],\n",
    "                     columns=[\"model names\",'CVaccuracy','CVF1']))"
   ]
  },
  {
   "cell_type": "code",
   "execution_count": 34,
   "metadata": {},
   "outputs": [
    {
     "name": "stdout",
     "output_type": "stream",
     "text": [
      "test result:\n",
      "[[   92     6]\n",
      " [15452 41412]]\n"
     ]
    }
   ],
   "source": [
    "model = est_holder[5]\n",
    "\n",
    "\n",
    "fpr,tpr,label,f1,accu=testresult(model,\"MajorVoting\",test_data,test_y)\n",
    "\n",
    "testroc_holder.append([fpr,tpr])\n",
    "testlabel_holder.append(label)\n",
    "test_result.append(pd.DataFrame([[\"MajorVoting\",np.average(accu),\n",
    "                       np.average(f1)]],\n",
    "                     columns=[\"model names\",'CVaccuracy','CVF1']))"
   ]
  },
  {
   "cell_type": "code",
   "execution_count": 35,
   "metadata": {},
   "outputs": [
    {
     "data": {
      "image/png": "[encoded data removed]",
      "text/plain": [
       "<Figure size 842.4x595.44 with 1 Axes>"
      ]
     },
     "metadata": {},
     "output_type": "display_data"
    }
   ],
   "source": [
    "\n",
    "\n",
    "plt.figure(figsize=(11.7,8.27))\n",
    "for i in range(len(testroc_holder)):\n",
    "    fpr, tpr =testroc_holder[i][0],testroc_holder[i][1]\n",
    "    plt.plot(fpr, tpr,label=testlabel_holder[i])\n",
    "    \n",
    "plt.plot([0,1],[0,1],\"--\",color ='r')\n",
    "plt.xlabel('1-specificity')\n",
    "plt.ylabel('sensitivity')\n",
    "plt.legend()\n",
    "\n",
    "plt.savefig('ruc_curve_{}sampling.png'.format(str(samplechoice)))\n",
    "plt.show()"
   ]
  },
  {
   "cell_type": "code",
   "execution_count": 36,
   "metadata": {},
   "outputs": [
    {
     "data": {
      "text/html": [
       "<div>\n",
       "<style scoped>\n",
       "    .dataframe tbody tr th:only-of-type {\n",
       "        vertical-align: middle;\n",
       "    }\n",
       "\n",
       "    .dataframe tbody tr th {\n",
       "        vertical-align: top;\n",
       "    }\n",
       "\n",
       "    .dataframe thead th {\n",
       "        text-align: right;\n",
       "    }\n",
       "</style>\n",
       "<table border=\"1\" class=\"dataframe\">\n",
       "  <thead>\n",
       "    <tr style=\"text-align: right;\">\n",
       "      <th></th>\n",
       "      <th>model names</th>\n",
       "      <th>CVaccuracy</th>\n",
       "      <th>CVF1</th>\n",
       "    </tr>\n",
       "  </thead>\n",
       "  <tbody>\n",
       "    <tr>\n",
       "      <td>0</td>\n",
       "      <td>LogisticRegression</td>\n",
       "      <td>0.997630</td>\n",
       "      <td>0.539249</td>\n",
       "    </tr>\n",
       "    <tr>\n",
       "      <td>0</td>\n",
       "      <td>MLP</td>\n",
       "      <td>0.411415</td>\n",
       "      <td>0.005694</td>\n",
       "    </tr>\n",
       "    <tr>\n",
       "      <td>0</td>\n",
       "      <td>DecisionTree</td>\n",
       "      <td>0.470963</td>\n",
       "      <td>0.006069</td>\n",
       "    </tr>\n",
       "    <tr>\n",
       "      <td>0</td>\n",
       "      <td>GradientBoosting</td>\n",
       "      <td>0.324848</td>\n",
       "      <td>0.005071</td>\n",
       "    </tr>\n",
       "    <tr>\n",
       "      <td>0</td>\n",
       "      <td>RandomForest</td>\n",
       "      <td>0.393297</td>\n",
       "      <td>0.005468</td>\n",
       "    </tr>\n",
       "    <tr>\n",
       "      <td>0</td>\n",
       "      <td>MajorVoting</td>\n",
       "      <td>0.728626</td>\n",
       "      <td>0.011763</td>\n",
       "    </tr>\n",
       "  </tbody>\n",
       "</table>\n",
       "</div>"
      ],
      "text/plain": [
       "          model names  CVaccuracy      CVF1\n",
       "0  LogisticRegression    0.997630  0.539249\n",
       "0                 MLP    0.411415  0.005694\n",
       "0        DecisionTree    0.470963  0.006069\n",
       "0    GradientBoosting    0.324848  0.005071\n",
       "0        RandomForest    0.393297  0.005468\n",
       "0         MajorVoting    0.728626  0.011763"
      ]
     },
     "execution_count": 36,
     "metadata": {},
     "output_type": "execute_result"
    }
   ],
   "source": [
    "result= pd.concat(test_result,axis=0)\n",
    "result.to_csv('test_result_{}sampling.csv'.format(str(samplechoice)))\n",
    "result"
   ]
  },
  {
   "cell_type": "code",
   "execution_count": null,
   "metadata": {},
   "outputs": [],
   "source": []
  }
 ],
 "metadata": {
  "kernelspec": {
   "display_name": "Python 3",
   "language": "python",
   "name": "python3"
  },
  "language_info": {
   "codemirror_mode": {
    "name": "ipython",
    "version": 3
   },
   "file_extension": ".py",
   "mimetype": "text/x-python",
   "name": "python",
   "nbconvert_exporter": "python",
   "pygments_lexer": "ipython3",
   "version": "3.7.4"
  }
 },
 "nbformat": 4,
 "nbformat_minor": 2
}
