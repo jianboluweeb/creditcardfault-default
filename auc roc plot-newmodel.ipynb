{
 "cells": [
  {
   "cell_type": "code",
   "execution_count": 40,
   "metadata": {},
   "outputs": [
    {
     "name": "stdout",
     "output_type": "stream",
     "text": [
      "Index(['paystate', 'lastpay', 'billpay', 'billlim', 'paylim', 'billchangelim0',\n",
      "       'paychangelim0', 'billchangelim1', 'paychangelim1', 'billchangelim2',\n",
      "       'paychangelim2', 'billchangelim3', 'paychangelim3', 'billchangelim4',\n",
      "       'paychangelim4', 'paymin', 'payful', 'inactive', 'ageclass_20s',\n",
      "       'ageclass_30s', 'ageclass_40s', 'ageclass_50s', 'ageclass_60s',\n",
      "       'ageclass_70s', 'sex_1', 'sex_2', 'education_0', 'education_1',\n",
      "       'education_2', 'education_3', 'education_4', 'education_5',\n",
      "       'education_6', 'marriage_0', 'marriage_1', 'marriage_2', 'marriage_3',\n",
      "       'default.payment.next.month'],\n",
      "      dtype='object')\n"
     ]
    }
   ],
   "source": [
    "import pandas as pd\n",
    "import numpy as np\n",
    "from matplotlib import pyplot as plt\n",
    "%matplotlib inline\n",
    "from sklearn.preprocessing import StandardScaler\n",
    "from sklearn.linear_model import LogisticRegression\n",
    "from sklearn.model_selection import KFold\n",
    "from sklearn.naive_bayes import GaussianNB\n",
    "from sklearn.metrics import f1_score\n",
    "from sklearn.metrics import roc_auc_score\n",
    "from sklearn.neural_network import MLPClassifier\n",
    "from sklearn.model_selection import StratifiedKFold\n",
    "import seaborn as sns; sns.set(style=\"ticks\", color_codes=\"pastel\")\n",
    "from sklearn.manifold import TSNE\n",
    "from sklearn.decomposition import PCA\n",
    "from sklearn.model_selection import GridSearchCV\n",
    "from sklearn.ensemble import GradientBoostingClassifier\n",
    "from sklearn.ensemble import RandomForestClassifier\n",
    "from sklearn.ensemble import AdaBoostClassifier\n",
    "from sklearn.tree import DecisionTreeClassifier\n",
    "from sklearn.metrics import f1_score\n",
    "from sklearn.metrics import classification_report\n",
    "from sklearn.metrics import confusion_matrix\n",
    "from sklearn import tree\n",
    "import time\n",
    "from sklearn import metrics\n",
    "from sklearn.model_selection import train_test_split\n",
    "from imblearn.over_sampling import SMOTE\n",
    "from imblearn.under_sampling import NearMiss\n",
    "\n",
    "\n",
    "def stdscaler(df):\n",
    "    scaler = StandardScaler()\n",
    "    scaler.fit(df)\n",
    "    scX_df = scaler.transform(df)\n",
    "    df=pd.DataFrame(scX_df, index =df.index,columns =df.columns  )\n",
    "    return df\n",
    "\n",
    "\n",
    "import time\n",
    "\n",
    "def kfoldtest(kfoldn,model,Xtrain_df,ytrain_df):\n",
    "    kf=StratifiedKFold(n_splits=kfoldn)\n",
    "    accu=[]\n",
    "    auc=[]\n",
    "    f1 =[]\n",
    "    aab =[]\n",
    "    dcd = []\n",
    "    tim = []\n",
    "    kf.get_n_splits(Xtrain_df,ytrain_df)\n",
    "    \n",
    "    for train_index, test_index in kf.split(Xtrain_df,ytrain_df):\n",
    "        #print(\"TRAIN:\", len(train_index), \"TEST:\", len(test_index))\n",
    "        t1 =time.time()\n",
    "        X_train, X_test = Xtrain_df.iloc[train_index], Xtrain_df.iloc[test_index]\n",
    "        y_train, y_test = ytrain_df.iloc[train_index], ytrain_df.iloc[test_index]\n",
    "        model.fit(X_train,y_train)\n",
    "        try:\n",
    "            accu.append(model.score(X_test,y_test))\n",
    "        except:\n",
    "            print(\"This model have no build-in score.\")\n",
    "            \n",
    "        auc.append(roc_auc_score(y_test,model.predict(X_test)))\n",
    "        f1.append(f1_score(y_test, model.predict(X_test).astype(int),average='binary'))\n",
    "        tim.append(time.time()-t1)\n",
    "        cm1=confusion_matrix(test_y, clf.predict(test_data),labels = [1,0])\n",
    "        sensitivity1 = cm1[0,0]/(cm1[0,0]+cm1[0,1])\n",
    "        aab.append(sensitivity1)\n",
    "\n",
    "        specificity1 = cm1[1,1]/(cm1[1,0]+cm1[1,1])\n",
    "        dcd.append(specificity1)\n",
    "    return accu,auc,f1,aab,dcd,tim\n",
    "\n",
    "sns.set_style(\"whitegrid\")\n",
    "sns.set(rc={'figure.figsize':(11.7,8.27)})\n",
    "file_name = 'model1.csv'\n",
    "data =pd.read_csv(file_name,index_col = 0)\n",
    "print(data.columns)\n"
   ]
  },
  {
   "cell_type": "code",
   "execution_count": 41,
   "metadata": {},
   "outputs": [],
   "source": [
    "v1 = data[data[\"default.payment.next.month\"]==1].copy()\n",
    "v0 = data[data[\"default.payment.next.month\"]==0].copy()\n",
    "v1.rename(columns={\"default.payment.next.month\": \"default\"},inplace = True)\n",
    "v0.rename(columns={\"default.payment.next.month\": \"default\"},inplace = True)\n",
    "y1 = v1[\"default\"].copy()\n",
    "x1 = v1.copy()\n",
    "del x1[\"default\"]\n",
    "y0 = v0[\"default\"].copy()\n",
    "x0 = v0.copy()\n",
    "del x0[\"default\"]\n",
    "\n",
    "tr1,te1,try1,tey1 = train_test_split(\n",
    "    x1, y1, test_size=0.20, random_state=42)\n",
    "tr2,te2,try2,tey2 = train_test_split(\n",
    "    x0, y0, test_size=0.20, random_state=42)\n",
    "####\n",
    "#tr2=tr2.sample(len(tr1.index))\n",
    "\n",
    "#try2 = try2.loc[tr2.index].copy()\n",
    "####\n",
    "\n",
    "\n",
    "train_data=pd.concat([tr1,tr2],axis=0)\n",
    "\n",
    "train_y = pd.concat([try1,try2],axis=0)\n",
    "test_data=pd.concat([te1,te2],axis=0)\n",
    "\n",
    "test_y = pd.concat([tey1,tey2],axis=0)\n",
    "\n",
    "\n",
    "train_data = stdscaler(train_data )\n",
    "test_data = stdscaler(test_data )\n",
    "muholder= []\n",
    "nameholder= []"
   ]
  },
  {
   "cell_type": "code",
   "execution_count": 42,
   "metadata": {},
   "outputs": [
    {
     "data": {
      "text/plain": [
       "'from sklearn.ensemble import ExtraTreesClassifier\\nfrom sklearn.feature_selection import SelectFromModel\\n\\n\\nclf = ExtraTreesClassifier(n_estimators=50)\\nclf = clf.fit(train_data, train_y)\\nclf.feature_importances_  \\n\\nmodel = SelectFromModel(clf, prefit=True)\\nnameix = []\\nfor i in range(len(train_data.columns)):\\n    if model.get_support(indices=False)[i] == True:\\n        nameix.append(train_data.columns[i])\\ntrain_data =pd.DataFrame( model.transform(train_data),\\n                         columns = nameix, \\n                         index =train_data.index  )\\ntest_data =pd.DataFrame( model.transform(test_data),\\n                         columns = nameix, \\n                         index =test_data.index  )\\n'"
      ]
     },
     "execution_count": 42,
     "metadata": {},
     "output_type": "execute_result"
    }
   ],
   "source": [
    "\"\"\"from sklearn.ensemble import ExtraTreesClassifier\n",
    "from sklearn.feature_selection import SelectFromModel\n",
    "\n",
    "\n",
    "clf = ExtraTreesClassifier(n_estimators=50)\n",
    "clf = clf.fit(train_data, train_y)\n",
    "clf.feature_importances_  \n",
    "\n",
    "model = SelectFromModel(clf, prefit=True)\n",
    "nameix = []\n",
    "for i in range(len(train_data.columns)):\n",
    "    if model.get_support(indices=False)[i] == True:\n",
    "        nameix.append(train_data.columns[i])\n",
    "train_data =pd.DataFrame( model.transform(train_data),\n",
    "                         columns = nameix, \n",
    "                         index =train_data.index  )\n",
    "test_data =pd.DataFrame( model.transform(test_data),\n",
    "                         columns = nameix, \n",
    "                         index =test_data.index  )\n",
    "\"\"\""
   ]
  },
  {
   "cell_type": "code",
   "execution_count": 43,
   "metadata": {},
   "outputs": [
    {
     "name": "stdout",
     "output_type": "stream",
     "text": [
      "              precision    recall  f1-score   support\n",
      "\n",
      "           1       0.36      0.62      0.46      1264\n",
      "           0       0.87      0.70      0.77      4563\n",
      "\n",
      "    accuracy                           0.68      5827\n",
      "   macro avg       0.61      0.66      0.61      5827\n",
      "weighted avg       0.76      0.68      0.70      5827\n",
      "\n",
      "DTC area=0.65\n"
     ]
    }
   ],
   "source": [
    "\n",
    "\n",
    "#clf = DecisionTreeClassifier(max_depth=None,class_weight=\"balanced\",random_state=0)\n",
    "clf = tree.DecisionTreeClassifier(max_depth=10,class_weight=\"balanced\",random_state=0)\n",
    "clf.fit(train_data,train_y)\n",
    "#print(clf.score(test_data,test_y))\n",
    "#print(f1_score(y_true = test_y, y_pred = clf.predict(test_data)))\n",
    "print(classification_report(test_y, clf.predict(test_data), labels=[1,0]))\n",
    "#muholder.append([fpr, tpr])\n",
    "fpr, tpr, thresholds = metrics.roc_curve(test_y, clf.predict_proba(test_data)[:,1], pos_label=1)\n",
    "muholder.append([fpr, tpr])\n",
    "nameholder.append('DTC'+' area='+str(roc_auc_score(test_y, clf.predict(test_data)))[:4])\n",
    "print(''.join([c for c in str(clf) if c.isupper()])[:3]+' area='+str(roc_auc_score(test_y, clf.predict(test_data)))[:4])\n",
    "#tree.plot_tree(clf)\n",
    "\n",
    "#confusion_matrix(test_y, clf.predict(test_data),labels = [1,0])\n"
   ]
  },
  {
   "cell_type": "code",
   "execution_count": 44,
   "metadata": {
    "scrolled": false
   },
   "outputs": [
    {
     "data": {
      "text/plain": [
       "'import graphviz \\ndot_data = tree.export_graphviz(clf, out_file=None) \\ngraph = graphviz.Source(dot_data)\\ngraph'"
      ]
     },
     "execution_count": 44,
     "metadata": {},
     "output_type": "execute_result"
    }
   ],
   "source": [
    "\"\"\"import graphviz \n",
    "dot_data = tree.export_graphviz(clf, out_file=None) \n",
    "graph = graphviz.Source(dot_data)\n",
    "graph\"\"\""
   ]
  },
  {
   "cell_type": "code",
   "execution_count": 45,
   "metadata": {},
   "outputs": [
    {
     "name": "stdout",
     "output_type": "stream",
     "text": [
      "0.8101939248326755\n",
      "0.4091880341880342\n",
      "              precision    recall  f1-score   support\n",
      "\n",
      "           1       0.63      0.30      0.41      1264\n",
      "           0       0.83      0.95      0.89      4563\n",
      "\n",
      "    accuracy                           0.81      5827\n",
      "   macro avg       0.73      0.63      0.65      5827\n",
      "weighted avg       0.79      0.81      0.78      5827\n",
      "\n",
      "LRC area=0.62\n"
     ]
    }
   ],
   "source": [
    "clf=LogisticRegression(tol=0.01, C=1,solver='lbfgs', max_iter=10000,)\n",
    "clf.fit(train_data,train_y)\n",
    "print(clf.score(test_data,test_y))\n",
    "#print(list(clf.predict(test_data)))\n",
    "print(f1_score(y_true = test_y, y_pred = clf.predict(test_data)))\n",
    "print(classification_report(test_y, clf.predict(test_data), labels=[1,0]))\n",
    "from sklearn.metrics import confusion_matrix\n",
    "\n",
    "confusion_matrix(test_y, clf.predict(test_data), labels=[1,0])\n",
    "\n",
    "\n",
    "fpr, tpr, thresholds = metrics.roc_curve(test_y, clf.predict_proba(test_data)[:,1], pos_label=1)\n",
    "muholder.append([fpr, tpr])\n",
    "nameholder.append(''.join([c for c in str(clf) if c.isupper()])[:3]+' area='+str(roc_auc_score(test_y, clf.predict(test_data)))[:4])\n",
    "print(''.join([c for c in str(clf) if c.isupper()])[:3]+' area='+str(roc_auc_score(test_y, clf.predict(test_data)))[:4])\n",
    "\n",
    "\n"
   ]
  },
  {
   "cell_type": "code",
   "execution_count": 46,
   "metadata": {},
   "outputs": [
    {
     "name": "stdout",
     "output_type": "stream",
     "text": [
      "0.7830787712373434\n",
      "0.0\n",
      "              precision    recall  f1-score   support\n",
      "\n",
      "           1       0.00      0.00      0.00      1264\n",
      "           0       0.78      1.00      0.88      4563\n",
      "\n",
      "    accuracy                           0.78      5827\n",
      "   macro avg       0.39      0.50      0.44      5827\n",
      "weighted avg       0.61      0.78      0.69      5827\n",
      "\n",
      "GNB area=0.5\n"
     ]
    },
    {
     "name": "stderr",
     "output_type": "stream",
     "text": [
      "/Users/untitledchinkengame/opt/anaconda3/lib/python3.7/site-packages/sklearn/metrics/_classification.py:1272: UndefinedMetricWarning: Precision and F-score are ill-defined and being set to 0.0 in labels with no predicted samples. Use `zero_division` parameter to control this behavior.\n",
      "  _warn_prf(average, modifier, msg_start, len(result))\n"
     ]
    }
   ],
   "source": [
    "clf = GaussianNB(priors=None, var_smoothing=1e-09)\n",
    "clf.fit(train_data,train_y)\n",
    "print(clf.score(test_data,test_y))\n",
    "#print(list(clf.predict(test_data)))\n",
    "print(f1_score(y_true = test_y, y_pred = clf.predict(test_data)))\n",
    "print(classification_report(test_y, clf.predict(test_data), labels=[1,0]))\n",
    "from sklearn.metrics import confusion_matrix\n",
    "\n",
    "confusion_matrix(test_y, clf.predict(test_data), labels=[1,0])\n",
    "\n",
    "fpr, tpr, thresholds = metrics.roc_curve(test_y, clf.predict_proba(test_data)[:,1], pos_label=1)\n",
    "muholder.append([fpr, tpr])\n",
    "nameholder.append(''.join([c for c in str(clf) if c.isupper()])[:3]+' area='+str(roc_auc_score(test_y, clf.predict(test_data)))[:4])\n",
    "print(''.join([c for c in str(clf) if c.isupper()])[:3]+' area='+str(roc_auc_score(test_y, clf.predict(test_data)))[:4])\n"
   ]
  },
  {
   "cell_type": "code",
   "execution_count": 47,
   "metadata": {},
   "outputs": [
    {
     "name": "stdout",
     "output_type": "stream",
     "text": [
      "0.8113952291058864\n",
      "0.3891050583657587\n",
      "              precision    recall  f1-score   support\n",
      "\n",
      "           1       0.65      0.28      0.39      1264\n",
      "           0       0.83      0.96      0.89      4563\n",
      "\n",
      "    accuracy                           0.81      5827\n",
      "   macro avg       0.74      0.62      0.64      5827\n",
      "weighted avg       0.79      0.81      0.78      5827\n",
      "\n",
      "RFC area=0.61\n"
     ]
    }
   ],
   "source": [
    "from sklearn.ensemble import RandomForestClassifier\n",
    "clf = RandomForestClassifier(bootstrap=True, ccp_alpha=0.0, class_weight=None,\n",
    "                       criterion='entropy', max_depth=10, max_features='auto',\n",
    "                       max_leaf_nodes=None, max_samples=None,\n",
    "                       min_impurity_decrease=0.0, min_impurity_split=None,\n",
    "                       min_samples_leaf=1, min_samples_split=2,\n",
    "                       min_weight_fraction_leaf=0.0, n_estimators=200,\n",
    "                       n_jobs=None, oob_score=False, random_state=42, verbose=0,\n",
    "                       warm_start=False)\n",
    "\n",
    "clf.fit(train_data,train_y)\n",
    "print(clf.score(test_data,test_y))\n",
    "#print(list(clf.predict(test_data)))\n",
    "print(f1_score(y_true = test_y, y_pred = clf.predict(test_data)))\n",
    "print(classification_report(test_y, clf.predict(test_data), labels=[1,0]))\n",
    "from sklearn.metrics import confusion_matrix\n",
    "\n",
    "confusion_matrix(test_y, clf.predict(test_data), labels=[1,0])\n",
    "fpr, tpr, thresholds = metrics.roc_curve(test_y, clf.predict_proba(test_data)[:,1], pos_label=1)\n",
    "muholder.append([fpr, tpr])\n",
    "nameholder.append(''.join([c for c in str(clf) if c.isupper()])[:3]+' area='+str(roc_auc_score(test_y, clf.predict(test_data)))[:4])\n",
    "print(''.join([c for c in str(clf) if c.isupper()])[:3]+' area='+str(roc_auc_score(test_y, clf.predict(test_data)))[:4])\n"
   ]
  },
  {
   "cell_type": "code",
   "execution_count": 48,
   "metadata": {},
   "outputs": [
    {
     "name": "stdout",
     "output_type": "stream",
     "text": [
      "0.8141410674446542\n",
      "0.48256091734352596\n",
      "              precision    recall  f1-score   support\n",
      "\n",
      "           1       0.61      0.40      0.48      1264\n",
      "           0       0.85      0.93      0.89      4563\n",
      "\n",
      "    accuracy                           0.81      5827\n",
      "   macro avg       0.73      0.66      0.68      5827\n",
      "weighted avg       0.80      0.81      0.80      5827\n",
      "\n",
      "MLP area=0.66\n"
     ]
    }
   ],
   "source": [
    "clf=MLPClassifier(activation='tanh', alpha=0.05, batch_size='auto', beta_1=0.9,\n",
    "              beta_2=0.999, early_stopping=False, epsilon=1e-08,\n",
    "              hidden_layer_sizes=(50, 100, 50), learning_rate='constant',\n",
    "              learning_rate_init=0.001, max_fun=15000, max_iter=3000,\n",
    "              momentum=0.9, n_iter_no_change=10, nesterovs_momentum=True,\n",
    "              power_t=0.5, random_state=None, shuffle=True, solver='sgd',\n",
    "              tol=0.0001, validation_fraction=0.1, verbose=False,\n",
    "              warm_start=False)\n",
    "clf.fit(train_data,train_y)\n",
    "print(clf.score(test_data,test_y))\n",
    "#print(list(clf.predict(test_data)))\n",
    "print(f1_score(y_true = test_y, y_pred = clf.predict(test_data)))\n",
    "print(classification_report(test_y, clf.predict(test_data), labels=[1,0]))\n",
    "from sklearn.metrics import confusion_matrix\n",
    "\n",
    "confusion_matrix(test_y, clf.predict(test_data), labels=[1,0])\n",
    "fpr, tpr, thresholds = metrics.roc_curve(test_y, clf.predict_proba(test_data)[:,1], pos_label=1)\n",
    "muholder.append([fpr, tpr])\n",
    "nameholder.append(''.join([c for c in str(clf) if c.isupper()])[:3]+' area='+str(roc_auc_score(test_y, clf.predict(test_data)))[:4])\n",
    "print(''.join([c for c in str(clf) if c.isupper()])[:3]+' area='+str(roc_auc_score(test_y, clf.predict(test_data)))[:4])\n"
   ]
  },
  {
   "cell_type": "code",
   "execution_count": 49,
   "metadata": {},
   "outputs": [
    {
     "name": "stdout",
     "output_type": "stream",
     "text": [
      "0.7611120645272009\n",
      "0.42000000000000004\n",
      "              precision    recall  f1-score   support\n",
      "\n",
      "           1       0.44      0.40      0.42      1264\n",
      "           0       0.84      0.86      0.85      4563\n",
      "\n",
      "    accuracy                           0.76      5827\n",
      "   macro avg       0.64      0.63      0.63      5827\n",
      "weighted avg       0.75      0.76      0.76      5827\n",
      "\n",
      "ABC area=0.63\n"
     ]
    }
   ],
   "source": [
    "from sklearn.ensemble import AdaBoostClassifier\n",
    "\n",
    "clf =AdaBoostClassifier(algorithm='SAMME.R',\n",
    "                   base_estimator=DecisionTreeClassifier(ccp_alpha=0.0,\n",
    "                                                         class_weight='balanced',\n",
    "                                                         criterion='entropy',\n",
    "                                                         max_depth=None,\n",
    "                                                         max_features='auto',\n",
    "                                                         max_leaf_nodes=None,\n",
    "                                                         min_impurity_decrease=0.0,\n",
    "                                                         min_impurity_split=None,\n",
    "                                                         min_samples_leaf=1,\n",
    "                                                         min_samples_split=2,\n",
    "                                                         min_weight_fraction_leaf=0.0,\n",
    "                                                         presort='deprecated',\n",
    "                                                         random_state=0,\n",
    "                                                         splitter='best'),\n",
    "                   learning_rate=1.0, n_estimators=20, random_state=None)\n",
    "\n",
    "clf.fit(train_data,train_y)\n",
    "print(clf.score(test_data,test_y))\n",
    "#print(list(clf.predict(test_data)))\n",
    "print(f1_score(y_true = test_y, y_pred = clf.predict(test_data)))\n",
    "print(classification_report(test_y, clf.predict(test_data), labels=[1,0]))\n",
    "from sklearn.metrics import confusion_matrix\n",
    "\n",
    "confusion_matrix(test_y, clf.predict(test_data), labels=[1,0])\n",
    "fpr, tpr, thresholds = metrics.roc_curve(test_y, clf.predict_proba(test_data)[:,1], pos_label=1)\n",
    "muholder.append([fpr, tpr])\n",
    "nameholder.append(''.join([c for c in str(clf) if c.isupper()])[:3]+' area='+str(roc_auc_score(test_y, clf.predict(test_data)))[:4])\n",
    "print(''.join([c for c in str(clf) if c.isupper()])[:3]+' area='+str(roc_auc_score(test_y, clf.predict(test_data)))[:4])\n"
   ]
  },
  {
   "cell_type": "code",
   "execution_count": 50,
   "metadata": {},
   "outputs": [
    {
     "name": "stdout",
     "output_type": "stream",
     "text": [
      "0.7830787712373434\n",
      "0.0\n",
      "              precision    recall  f1-score   support\n",
      "\n",
      "           1       0.00      0.00      0.00      1264\n",
      "           0       0.78      1.00      0.88      4563\n",
      "\n",
      "    accuracy                           0.78      5827\n",
      "   macro avg       0.39      0.50      0.44      5827\n",
      "weighted avg       0.61      0.78      0.69      5827\n",
      "\n",
      "GBC area=0.5\n"
     ]
    },
    {
     "name": "stderr",
     "output_type": "stream",
     "text": [
      "/Users/untitledchinkengame/opt/anaconda3/lib/python3.7/site-packages/sklearn/metrics/_classification.py:1272: UndefinedMetricWarning: Precision and F-score are ill-defined and being set to 0.0 in labels with no predicted samples. Use `zero_division` parameter to control this behavior.\n",
      "  _warn_prf(average, modifier, msg_start, len(result))\n"
     ]
    }
   ],
   "source": [
    "clf= GradientBoostingClassifier(criterion='friedman_mse', init=None,\n",
    "                           learning_rate=0.15, loss='deviance', max_depth=8,\n",
    "                           max_features='sqrt', max_leaf_nodes=None,\n",
    "                           min_impurity_decrease=0.0, min_impurity_split=None,\n",
    "                           min_samples_leaf=0.1, min_samples_split=0.1,\n",
    "                           min_weight_fraction_leaf=0.0, n_estimators=10,\n",
    "                           n_iter_no_change=None, \n",
    "                           random_state=None, subsample=1.0, tol=0.0001,\n",
    "                           validation_fraction=0.1, verbose=0,\n",
    "                           warm_start=False)\n",
    "clf.fit(train_data,train_y)\n",
    "print(clf.score(test_data,test_y))\n",
    "#print(list(clf.predict(test_data)))\n",
    "print(f1_score(y_true = test_y, y_pred = clf.predict(test_data)))\n",
    "print(classification_report(test_y, clf.predict(test_data), labels=[1,0]))\n",
    "from sklearn.metrics import confusion_matrix\n",
    "\n",
    "confusion_matrix(test_y, clf.predict(test_data), labels=[1,0])\n",
    "fpr, tpr, thresholds = metrics.roc_curve(test_y, clf.predict_proba(test_data)[:,1], pos_label=1)\n",
    "muholder.append([fpr, tpr])\n",
    "nameholder.append(''.join([c for c in str(clf) if c.isupper()])[:3]+' area='+str(roc_auc_score(test_y, clf.predict(test_data)))[:4])\n",
    "print(''.join([c for c in str(clf) if c.isupper()])[:3]+' area='+str(roc_auc_score(test_y, clf.predict(test_data)))[:4])\n"
   ]
  },
  {
   "cell_type": "code",
   "execution_count": 51,
   "metadata": {},
   "outputs": [
    {
     "name": "stdout",
     "output_type": "stream",
     "text": [
      "7\n"
     ]
    },
    {
     "data": {
      "image/png": "[encoded data removed]",
      "text/plain": [
       "<Figure size 842.4x595.44 with 1 Axes>"
      ]
     },
     "metadata": {},
     "output_type": "display_data"
    }
   ],
   "source": [
    "print(len(muholder))\n",
    "plt.figure(figsize=(11.7,8.27))\n",
    "for i in range(len(muholder)):\n",
    "    fpr, tpr =muholder[i][0],muholder[i][1]\n",
    "    plt.plot(fpr, tpr,label=nameholder[i])\n",
    "    \n",
    "plt.plot([0,1],[0,1],\"--\",color ='r')\n",
    "plt.legend()\n",
    "plt.show()"
   ]
  },
  {
   "cell_type": "code",
   "execution_count": null,
   "metadata": {},
   "outputs": [],
   "source": []
  }
 ],
 "metadata": {
  "kernelspec": {
   "display_name": "Python 3",
   "language": "python",
   "name": "python3"
  },
  "language_info": {
   "codemirror_mode": {
    "name": "ipython",
    "version": 3
   },
   "file_extension": ".py",
   "mimetype": "text/x-python",
   "name": "python",
   "nbconvert_exporter": "python",
   "pygments_lexer": "ipython3",
   "version": "3.7.4"
  }
 },
 "nbformat": 4,
 "nbformat_minor": 2
}
