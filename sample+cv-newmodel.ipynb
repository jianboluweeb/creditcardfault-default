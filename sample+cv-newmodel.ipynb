{
 "cells": [
  {
   "cell_type": "code",
   "execution_count": 36,
   "metadata": {},
   "outputs": [
    {
     "name": "stdout",
     "output_type": "stream",
     "text": [
      "Index(['paystate', 'lastpay', 'billpay', 'billlim', 'paylim', 'billchangelim0',\n",
      "       'paychangelim0', 'billchangelim1', 'paychangelim1', 'billchangelim2',\n",
      "       'paychangelim2', 'billchangelim3', 'paychangelim3', 'billchangelim4',\n",
      "       'paychangelim4', 'paymin', 'payful', 'inactive', 'ageclass_20s',\n",
      "       'ageclass_30s', 'ageclass_40s', 'ageclass_50s', 'ageclass_60s',\n",
      "       'ageclass_70s', 'sex_1', 'sex_2', 'education_0', 'education_1',\n",
      "       'education_2', 'education_3', 'education_4', 'education_5',\n",
      "       'education_6', 'marriage_0', 'marriage_1', 'marriage_2', 'marriage_3',\n",
      "       'default.payment.next.month'],\n",
      "      dtype='object')\n"
     ]
    }
   ],
   "source": [
    "import pandas as pd\n",
    "import numpy as np\n",
    "from matplotlib import pyplot as plt\n",
    "%matplotlib inline\n",
    "from sklearn.preprocessing import StandardScaler\n",
    "from sklearn.linear_model import LogisticRegression\n",
    "from sklearn.model_selection import KFold\n",
    "from sklearn.naive_bayes import GaussianNB\n",
    "from sklearn.metrics import f1_score\n",
    "from sklearn.metrics import roc_auc_score\n",
    "from sklearn.neural_network import MLPClassifier\n",
    "from sklearn.model_selection import StratifiedKFold\n",
    "import seaborn as sns; sns.set(style=\"ticks\", color_codes=\"pastel\")\n",
    "from sklearn.manifold import TSNE\n",
    "from sklearn.decomposition import PCA\n",
    "from sklearn.model_selection import GridSearchCV\n",
    "from sklearn.ensemble import GradientBoostingClassifier\n",
    "from sklearn.ensemble import RandomForestClassifier\n",
    "from sklearn.ensemble import AdaBoostClassifier\n",
    "from sklearn.tree import DecisionTreeClassifier\n",
    "from sklearn.metrics import f1_score\n",
    "from sklearn.metrics import classification_report\n",
    "from sklearn.metrics import confusion_matrix\n",
    "from sklearn import tree\n",
    "import time\n",
    "from sklearn import metrics\n",
    "from sklearn.model_selection import train_test_split\n",
    "from imblearn.over_sampling import SMOTE\n",
    "from imblearn.under_sampling import NearMiss\n",
    "\n",
    "\n",
    "def stdscaler(df):\n",
    "    scaler = StandardScaler()\n",
    "    scaler.fit(df)\n",
    "    scX_df = scaler.transform(df)\n",
    "    df=pd.DataFrame(scX_df, index =df.index,columns =df.columns  )\n",
    "    return df\n",
    "\n",
    "\n",
    "import time\n",
    "\n",
    "samplechoice = \"SMOTE\"\n",
    "\"\"\"\n",
    "if samplechoice == \"SMOTE\":\n",
    "    smt = SMOTE()\n",
    "    train_data , train_y = smt.fit_sample(train_data , train_y)\n",
    "elif samplechoice == \"NearMiss\":\n",
    "    nr = NearMiss()\n",
    "    train_data , train_y = nr.fit_sample(train_data , train_y)\n",
    "\n",
    "    \n",
    "\"\"\"\n",
    "\n",
    "\n",
    "def kfoldtest(kfoldn,model,Xtrain_df,ytrain_df):\n",
    "    kf=StratifiedKFold(n_splits=kfoldn)\n",
    "    accu=[]\n",
    "    auc=[]\n",
    "    f1 =[]\n",
    "    aab =[]\n",
    "    dcd = []\n",
    "    tim = []\n",
    "    kf.get_n_splits(Xtrain_df,ytrain_df)\n",
    "    \n",
    "    for train_index, test_index in kf.split(Xtrain_df,ytrain_df):\n",
    "        #print(\"TRAIN:\", len(train_index), \"TEST:\", len(test_index))\n",
    "        t1 =time.time()\n",
    "        X_train, X_test = Xtrain_df.iloc[train_index], Xtrain_df.iloc[test_index]\n",
    "        y_train, y_test = ytrain_df.iloc[train_index], ytrain_df.iloc[test_index]\n",
    "        \n",
    "        \n",
    "        if samplechoice == \"SMOTE\":\n",
    "            smt = SMOTE()\n",
    "            X_train,  y_train = smt.fit_sample(X_train , y_train)\n",
    "        elif samplechoice == \"NearMiss\":\n",
    "            nr = NearMiss()\n",
    "            X_train,  y_train = nr.fit_sample(X_train , y_train)\n",
    "\n",
    "    \n",
    "        model.fit(X_train,y_train)\n",
    "        try:\n",
    "            accu.append(model.score(X_test,y_test))\n",
    "        except:\n",
    "            print(\"This model have no build-in score.\")\n",
    "            \n",
    "        auc.append(roc_auc_score(y_test,model.predict(X_test)))\n",
    "        f1.append(f1_score(y_test, model.predict(X_test).astype(int),average='binary'))\n",
    "        tim.append(time.time()-t1)\n",
    "        cm1=confusion_matrix(test_y, clf.predict(test_data),labels = [1,0])\n",
    "        sensitivity1 = cm1[0,0]/(cm1[0,0]+cm1[0,1])\n",
    "        aab.append(sensitivity1)\n",
    "\n",
    "        specificity1 = cm1[1,1]/(cm1[1,0]+cm1[1,1])\n",
    "        dcd.append(specificity1)\n",
    "    return accu,auc,f1,aab,dcd,tim\n",
    "\n",
    "sns.set_style(\"whitegrid\")\n",
    "sns.set(rc={'figure.figsize':(11.7,8.27)})\n",
    "file_name = 'model1.csv'\n",
    "data =pd.read_csv(file_name,index_col = 0)\n",
    "print(data.columns)\n"
   ]
  },
  {
   "cell_type": "code",
   "execution_count": 37,
   "metadata": {},
   "outputs": [],
   "source": [
    "v1 = data[data[\"default.payment.next.month\"]==1].copy()\n",
    "v0 = data[data[\"default.payment.next.month\"]==0].copy()\n",
    "v1.rename(columns={\"default.payment.next.month\": \"default\"},inplace = True)\n",
    "v0.rename(columns={\"default.payment.next.month\": \"default\"},inplace = True)\n",
    "y1 = v1[\"default\"].copy()\n",
    "x1 = v1.copy()\n",
    "del x1[\"default\"]\n",
    "y0 = v0[\"default\"].copy()\n",
    "x0 = v0.copy()\n",
    "del x0[\"default\"]\n",
    "\n",
    "tr1,te1,try1,tey1 = train_test_split(\n",
    "    x1, y1, test_size=0.20, random_state=42)\n",
    "tr2,te2,try2,tey2 = train_test_split(\n",
    "    x0, y0, test_size=0.20, random_state=42)\n",
    "####\n",
    "#tr2=tr2.sample(len(tr1.index))\n",
    "\n",
    "#try2 = try2.loc[tr2.index].copy()\n",
    "####\n",
    "\n",
    "\n",
    "train_data=pd.concat([tr1,tr2],axis=0)\n",
    "\n",
    "train_y = pd.concat([try1,try2],axis=0)\n",
    "test_data=pd.concat([te1,te2],axis=0)\n",
    "\n",
    "test_y = pd.concat([tey1,tey2],axis=0)\n",
    "\n",
    "\n",
    "train_data = stdscaler(train_data )\n",
    "test_data = stdscaler(test_data )\n"
   ]
  },
  {
   "cell_type": "code",
   "execution_count": 30,
   "metadata": {},
   "outputs": [
    {
     "data": {
      "text/plain": [
       "'\\npca =PCA(n_components=.9).fit(train_data)\\ntrain_data = pd.DataFrame(pca.transform(train_data),index = train_data.index)   \\n\\ntest_data= pd.DataFrame(pca.transform(test_data),index = test_data.index)  \\n'"
      ]
     },
     "execution_count": 30,
     "metadata": {},
     "output_type": "execute_result"
    }
   ],
   "source": [
    "\"\"\"\n",
    "pca =PCA(n_components=.9).fit(train_data)\n",
    "train_data = pd.DataFrame(pca.transform(train_data),index = train_data.index)   \n",
    "\n",
    "test_data= pd.DataFrame(pca.transform(test_data),index = test_data.index)  \n",
    "\"\"\""
   ]
  },
  {
   "cell_type": "code",
   "execution_count": 31,
   "metadata": {},
   "outputs": [
    {
     "data": {
      "text/plain": [
       "'\\nfrom sklearn.ensemble import ExtraTreesClassifier\\n\\nfrom sklearn.feature_selection import SelectFromModel\\nclf = ExtraTreesClassifier(n_estimators=50)\\nclf = clf.fit(train_data, train_y) \\nmodel = SelectFromModel(clf, prefit=True)\\ntrain_data= pd.DataFrame(model.transform(train_data),index=train_data)\\ntest_data= pd.DataFrame(model.transform(test_data),index=test_data)\\n'"
      ]
     },
     "execution_count": 31,
     "metadata": {},
     "output_type": "execute_result"
    }
   ],
   "source": [
    "\"\"\"\n",
    "from sklearn.ensemble import ExtraTreesClassifier\n",
    "\n",
    "from sklearn.feature_selection import SelectFromModel\n",
    "clf = ExtraTreesClassifier(n_estimators=50)\n",
    "clf = clf.fit(train_data, train_y) \n",
    "model = SelectFromModel(clf, prefit=True)\n",
    "train_data= pd.DataFrame(model.transform(train_data),index=train_data)\n",
    "test_data= pd.DataFrame(model.transform(test_data),index=test_data)\n",
    "\"\"\""
   ]
  },
  {
   "cell_type": "code",
   "execution_count": 32,
   "metadata": {},
   "outputs": [
    {
     "data": {
      "text/plain": [
       "'from sklearn.svm import LinearSVC\\nfrom sklearn.datasets import load_iris\\nfrom sklearn.feature_selection import SelectFromModel\\n\\n\\nlsvc = LinearSVC(C=0.01, penalty=\"l1\", dual=False).fit(train_data, train_y)\\nmodel = SelectFromModel(lsvc, prefit=True)\\ntrain_data= pd.DataFrame(model.transform(train_data),index=train_data)\\ntest_data= pd.DataFrame(model.transform(test_data),index=test_data)\\n'"
      ]
     },
     "execution_count": 32,
     "metadata": {},
     "output_type": "execute_result"
    }
   ],
   "source": [
    "\"\"\"from sklearn.svm import LinearSVC\n",
    "from sklearn.datasets import load_iris\n",
    "from sklearn.feature_selection import SelectFromModel\n",
    "\n",
    "\n",
    "lsvc = LinearSVC(C=0.01, penalty=\"l1\", dual=False).fit(train_data, train_y)\n",
    "model = SelectFromModel(lsvc, prefit=True)\n",
    "train_data= pd.DataFrame(model.transform(train_data),index=train_data)\n",
    "test_data= pd.DataFrame(model.transform(test_data),index=test_data)\n",
    "\"\"\""
   ]
  },
  {
   "cell_type": "code",
   "execution_count": 34,
   "metadata": {},
   "outputs": [
    {
     "data": {
      "text/plain": [
       "array([[0.44030855, 0.37699831, 0.03036041, 0.30214927, 0.22487297,\n",
       "        0.04532094, 0.06715589, 0.01424038, 0.10547078, 0.00522355,\n",
       "        0.06378645, 0.0175202 , 0.01525508, 0.04311378, 0.04817889,\n",
       "        0.24057814, 0.03014838, 0.09493738, 0.035646  , 0.04219859,\n",
       "        0.00858725, 0.00455641, 0.00964738, 0.00766081, 0.02869893,\n",
       "        0.02869893, 0.12167669, 0.04296143, 0.04013522, 0.03306852,\n",
       "        0.02440613, 0.08624533, 0.01655434, 0.09629857, 0.04336707,\n",
       "        0.03640395, 0.00632911]])"
      ]
     },
     "execution_count": 34,
     "metadata": {},
     "output_type": "execute_result"
    }
   ],
   "source": [
    "abs_weights"
   ]
  },
  {
   "cell_type": "code",
   "execution_count": 41,
   "metadata": {},
   "outputs": [
    {
     "data": {
      "image/png": "[encoded data removed]",
      "text/plain": [
       "<Figure size 842.4x595.44 with 1 Axes>"
      ]
     },
     "metadata": {},
     "output_type": "display_data"
    }
   ],
   "source": [
    "result=[]\n",
    "\n",
    "clf=LogisticRegression(tol=0.01, C=0.1,solver='lbfgs', max_iter=10000,)\n",
    "accu,auc,f1,aab,dcd,tim =kfoldtest(5,clf,train_data,train_y)\n",
    "result.append(pd.DataFrame([[\"LogisticRegression\",np.average(accu),np.average(auc),\n",
    "                       np.average(f1),np.average(aab),np.average(dcd),np.average(tim)]],\n",
    "                     columns=[\"model names\",'CVaccuracy','CVaucroc','CVF1',\"CVsensitivity\",'CVspecificity','CVtime(s)']))\n",
    "\n",
    "\n",
    "weights = clf.coef_\n",
    "abs_weights = weights\n",
    "tmp = pd.DataFrame({'Feature': train_data.columns, 'Feature coeficient': abs_weights[0]})\n",
    "tmp = tmp.sort_values(by='Feature coeficient',ascending=False)\n",
    "plt.figure(figsize = (11.7,8.27))\n",
    "plt.title('Features coeficient',fontsize=14)\n",
    "s = sns.barplot(x='Feature',y='Feature coeficient',data=tmp)\n",
    "s.set_xticklabels(s.get_xticklabels(),rotation=90)\n",
    "plt.show()   \n"
   ]
  },
  {
   "cell_type": "code",
   "execution_count": 25,
   "metadata": {
    "scrolled": false
   },
   "outputs": [
    {
     "name": "stdout",
     "output_type": "stream",
     "text": [
      "\n"
     ]
    },
    {
     "data": {
      "image/png": "[encoded data removed]",
      "text/plain": [
       "<Figure size 842.4x595.44 with 1 Axes>"
      ]
     },
     "metadata": {},
     "output_type": "display_data"
    }
   ],
   "source": [
    "clf = tree.DecisionTreeClassifier(max_depth=10,class_weight=\"balanced\",random_state=0)\n",
    "accu,auc,f1,aab,dcd,tim =kfoldtest(5,clf,train_data,train_y)\n",
    "result.append(pd.DataFrame([[\"DecisionTree\",np.average(accu),np.average(auc),\n",
    "                       np.average(f1),np.average(aab),np.average(dcd),np.average(tim)]],\n",
    "                     columns=[\"model names\",'CVaccuracy','CVaucroc','CVF1',\"CVsensitivity\",'CVspecificity','CVtime(s)']))\n",
    "\n",
    "\n",
    "print()\n",
    "tmp = pd.DataFrame({'Feature': train_data.columns, 'Feature importance': clf.feature_importances_})\n",
    "tmp = tmp.sort_values(by='Feature importance',ascending=False)\n",
    "plt.figure(figsize = (11.7,8.27))\n",
    "plt.title('Features importance',fontsize=14)\n",
    "s = sns.barplot(x='Feature',y='Feature importance',data=tmp)\n",
    "s.set_xticklabels(s.get_xticklabels(),rotation=90)\n",
    "plt.show()   "
   ]
  },
  {
   "cell_type": "code",
   "execution_count": 11,
   "metadata": {},
   "outputs": [
    {
     "ename": "AttributeError",
     "evalue": "'GaussianNB' object has no attribute 'feature_importances_'",
     "output_type": "error",
     "traceback": [
      "\u001b[0;31m---------------------------------------------------------------------------\u001b[0m",
      "\u001b[0;31mAttributeError\u001b[0m                            Traceback (most recent call last)",
      "\u001b[0;32m<ipython-input-11-c88663fab5c7>\u001b[0m in \u001b[0;36m<module>\u001b[0;34m\u001b[0m\n\u001b[1;32m      6\u001b[0m \u001b[0;34m\u001b[0m\u001b[0m\n\u001b[1;32m      7\u001b[0m \u001b[0;34m\u001b[0m\u001b[0m\n\u001b[0;32m----> 8\u001b[0;31m \u001b[0mtmp\u001b[0m \u001b[0;34m=\u001b[0m \u001b[0mpd\u001b[0m\u001b[0;34m.\u001b[0m\u001b[0mDataFrame\u001b[0m\u001b[0;34m(\u001b[0m\u001b[0;34m{\u001b[0m\u001b[0;34m'Feature'\u001b[0m\u001b[0;34m:\u001b[0m \u001b[0mtrain_data\u001b[0m\u001b[0;34m.\u001b[0m\u001b[0mcolumns\u001b[0m\u001b[0;34m,\u001b[0m \u001b[0;34m'Feature importance'\u001b[0m\u001b[0;34m:\u001b[0m \u001b[0mclf\u001b[0m\u001b[0;34m.\u001b[0m\u001b[0mfeature_importances_\u001b[0m\u001b[0;34m}\u001b[0m\u001b[0;34m)\u001b[0m\u001b[0;34m\u001b[0m\u001b[0;34m\u001b[0m\u001b[0m\n\u001b[0m\u001b[1;32m      9\u001b[0m \u001b[0mtmp\u001b[0m \u001b[0;34m=\u001b[0m \u001b[0mtmp\u001b[0m\u001b[0;34m.\u001b[0m\u001b[0msort_values\u001b[0m\u001b[0;34m(\u001b[0m\u001b[0mby\u001b[0m\u001b[0;34m=\u001b[0m\u001b[0;34m'Feature importance'\u001b[0m\u001b[0;34m,\u001b[0m\u001b[0mascending\u001b[0m\u001b[0;34m=\u001b[0m\u001b[0;32mFalse\u001b[0m\u001b[0;34m)\u001b[0m\u001b[0;34m\u001b[0m\u001b[0;34m\u001b[0m\u001b[0m\n\u001b[1;32m     10\u001b[0m \u001b[0mplt\u001b[0m\u001b[0;34m.\u001b[0m\u001b[0mfigure\u001b[0m\u001b[0;34m(\u001b[0m\u001b[0mfigsize\u001b[0m \u001b[0;34m=\u001b[0m \u001b[0;34m(\u001b[0m\u001b[0;36m11.7\u001b[0m\u001b[0;34m,\u001b[0m\u001b[0;36m8.27\u001b[0m\u001b[0;34m)\u001b[0m\u001b[0;34m)\u001b[0m\u001b[0;34m\u001b[0m\u001b[0;34m\u001b[0m\u001b[0m\n",
      "\u001b[0;31mAttributeError\u001b[0m: 'GaussianNB' object has no attribute 'feature_importances_'"
     ]
    }
   ],
   "source": [
    "clf = GaussianNB(priors=None, var_smoothing=1e-09)\n",
    "accu,auc,f1,aab,dcd,tim =kfoldtest(5,clf,train_data,train_y)\n",
    "result.append(pd.DataFrame([[\"Naive bayes\",np.average(accu),np.average(auc),\n",
    "                       np.average(f1),np.average(aab),np.average(dcd),np.average(tim)]],\n",
    "                     columns=[\"model names\",'CVaccuracy','CVaucroc','CVF1',\"CVsensitivity\",'CVspecificity','CVtime(s)']))\n",
    "\n",
    "\n",
    "tmp = pd.DataFrame({'Feature': train_data.columns, 'Feature importance': clf.feature_importances_})\n",
    "tmp = tmp.sort_values(by='Feature importance',ascending=False)\n",
    "plt.figure(figsize = (11.7,8.27))\n",
    "plt.title('Features importance',fontsize=14)\n",
    "s = sns.barplot(x='Feature',y='Feature importance',data=tmp)\n",
    "s.set_xticklabels(s.get_xticklabels(),rotation=90)\n",
    "plt.show()   "
   ]
  },
  {
   "cell_type": "code",
   "execution_count": 18,
   "metadata": {},
   "outputs": [
    {
     "data": {
      "image/png": "[encoded data removed]",
      "text/plain": [
       "<Figure size 842.4x595.44 with 1 Axes>"
      ]
     },
     "metadata": {},
     "output_type": "display_data"
    }
   ],
   "source": [
    "clf = RandomForestClassifier(bootstrap=True, ccp_alpha=0.0, class_weight=None,\n",
    "                       criterion='entropy', max_depth=10, max_features='auto',\n",
    "                       max_leaf_nodes=None, max_samples=None,\n",
    "                       min_impurity_decrease=0.0, min_impurity_split=None,\n",
    "                       min_samples_leaf=1, min_samples_split=2,\n",
    "                       min_weight_fraction_leaf=0.0, n_estimators=200,\n",
    "                       n_jobs=None, oob_score=False, random_state=42, verbose=0,\n",
    "                       warm_start=False)\n",
    "\n",
    "accu,auc,f1,aab,dcd,tim=kfoldtest(5,clf,train_data,train_y)\n",
    "result.append(pd.DataFrame([[\"RandomForest\",np.average(accu),np.average(auc),\n",
    "                       np.average(f1),np.average(aab),np.average(dcd),np.average(tim)]],\n",
    "                     columns=[\"model names\",'CVaccuracy','CVaucroc','CVF1',\"CVsensitivity\",'CVspecificity','CVtime(s)']))\n",
    "tmp = pd.DataFrame({'Feature': train_data.columns, 'Feature importance': clf.feature_importances_})\n",
    "tmp = tmp.sort_values(by='Feature importance',ascending=False)\n",
    "plt.figure(figsize = (11.7,8.27))\n",
    "plt.title('Features importance',fontsize=14)\n",
    "s = sns.barplot(x='Feature',y='Feature importance',data=tmp)\n",
    "s.set_xticklabels(s.get_xticklabels(),rotation=90)\n",
    "plt.show()   \n"
   ]
  },
  {
   "cell_type": "code",
   "execution_count": null,
   "metadata": {},
   "outputs": [
    {
     "name": "stderr",
     "output_type": "stream",
     "text": [
      "/Users/untitledchinkengame/opt/anaconda3/lib/python3.7/site-packages/sklearn/neural_network/_multilayer_perceptron.py:573: UserWarning: Training interrupted by user.\n",
      "  warnings.warn(\"Training interrupted by user.\")\n"
     ]
    }
   ],
   "source": [
    "clf=MLPClassifier(activation='tanh', alpha=0.05, batch_size='auto', beta_1=0.9,\n",
    "              beta_2=0.999, early_stopping=False, epsilon=1e-08,\n",
    "              hidden_layer_sizes=(50, 100, 50), learning_rate='constant',\n",
    "              learning_rate_init=0.001, max_fun=15000, max_iter=3000,\n",
    "              momentum=0.9, n_iter_no_change=10, nesterovs_momentum=True,\n",
    "              power_t=0.5, random_state=None, shuffle=True, solver='sgd',\n",
    "              tol=0.0001, validation_fraction=0.1, verbose=False,\n",
    "              warm_start=False)\n",
    "\n",
    "accu,auc,f1,aab,dcd,tim =kfoldtest(5,clf,train_data,train_y)\n",
    "result.append(pd.DataFrame([[\"MLP\",np.average(accu),np.average(auc),\n",
    "                       np.average(f1),np.average(aab),np.average(dcd),np.average(tim)]],\n",
    "                     columns=[\"model names\",'CVaccuracy','CVaucroc','CVF1',\"CVsensitivity\",'CVspecificity','CVtime(s)']))\n",
    "\n"
   ]
  },
  {
   "cell_type": "code",
   "execution_count": null,
   "metadata": {},
   "outputs": [],
   "source": [
    "clf = AdaBoostClassifier(algorithm='SAMME.R',\n",
    "                   base_estimator=DecisionTreeClassifier(ccp_alpha=0.0,\n",
    "                                                         class_weight='balanced',\n",
    "                                                         criterion='entropy',\n",
    "                                                         max_depth=None,\n",
    "                                                         max_features='auto',\n",
    "                                                         max_leaf_nodes=None,\n",
    "                                                         min_impurity_decrease=0.0,\n",
    "                                                         min_impurity_split=None,\n",
    "                                                         min_samples_leaf=1,\n",
    "                                                         min_samples_split=2,\n",
    "                                                         min_weight_fraction_leaf=0.0,\n",
    "                                                         presort='deprecated',\n",
    "                                                         random_state=0,\n",
    "                                                         splitter='best'),\n",
    "                   learning_rate=1.0, n_estimators=20, random_state=None)\n",
    "\n",
    "accu,auc,f1,aab,dcd,tim =kfoldtest(5,clf,train_data,train_y)\n",
    "result.append(pd.DataFrame([[\"AdaboostDecisionTree\",np.average(accu),np.average(auc),\n",
    "                       np.average(f1),np.average(aab),np.average(dcd),np.average(tim)]],\n",
    "                     columns=[\"model names\",'CVaccuracy','CVaucroc','CVF1',\"CVsensitivity\",'CVspecificity','CVtime(s)']))"
   ]
  },
  {
   "cell_type": "code",
   "execution_count": null,
   "metadata": {},
   "outputs": [],
   "source": [
    "clf= GradientBoostingClassifier(criterion='friedman_mse', init=None,\n",
    "                           learning_rate=0.15, loss='deviance', max_depth=8,\n",
    "                           max_features='sqrt', max_leaf_nodes=None,\n",
    "                           min_impurity_decrease=0.0, min_impurity_split=None,\n",
    "                           min_samples_leaf=0.1, min_samples_split=0.1,\n",
    "                           min_weight_fraction_leaf=0.0, n_estimators=10,\n",
    "                           n_iter_no_change=None,\n",
    "                           random_state=None, subsample=1.0, tol=0.0001,\n",
    "                           validation_fraction=0.1, verbose=0,\n",
    "                           warm_start=False)\n",
    "accu,auc,f1,aab,dcd ,tim=kfoldtest(5,clf,train_data,train_y)\n",
    "result.append(pd.DataFrame([[\"GradientBoosting\",np.average(accu),np.average(auc),\n",
    "                       np.average(f1),np.average(aab),np.average(dcd),np.average(tim)]],\n",
    "                     columns=[\"model names\",'CVaccuracy','CVaucroc','CVF1',\"CVsensitivity\",'CVspecificity','CVtime(s)']))\n"
   ]
  },
  {
   "cell_type": "code",
   "execution_count": 26,
   "metadata": {},
   "outputs": [],
   "source": [
    "result= pd.concat(result,axis=0)\n",
    "result.to_csv('newmodel_{}sampling+svcselection.csv'.format(str(samplechoice)))"
   ]
  },
  {
   "cell_type": "code",
   "execution_count": 27,
   "metadata": {},
   "outputs": [
    {
     "data": {
      "text/html": [
       "<div>\n",
       "<style scoped>\n",
       "    .dataframe tbody tr th:only-of-type {\n",
       "        vertical-align: middle;\n",
       "    }\n",
       "\n",
       "    .dataframe tbody tr th {\n",
       "        vertical-align: top;\n",
       "    }\n",
       "\n",
       "    .dataframe thead th {\n",
       "        text-align: right;\n",
       "    }\n",
       "</style>\n",
       "<table border=\"1\" class=\"dataframe\">\n",
       "  <thead>\n",
       "    <tr style=\"text-align: right;\">\n",
       "      <th></th>\n",
       "      <th>model names</th>\n",
       "      <th>CVaccuracy</th>\n",
       "      <th>CVaucroc</th>\n",
       "      <th>CVF1</th>\n",
       "      <th>CVsensitivity</th>\n",
       "      <th>CVspecificity</th>\n",
       "      <th>CVtime(s)</th>\n",
       "    </tr>\n",
       "  </thead>\n",
       "  <tbody>\n",
       "    <tr>\n",
       "      <td>0</td>\n",
       "      <td>LogisticRegression</td>\n",
       "      <td>0.778782</td>\n",
       "      <td>0.499973</td>\n",
       "      <td>0.00000</td>\n",
       "      <td>0.00000</td>\n",
       "      <td>1.000000</td>\n",
       "      <td>0.046707</td>\n",
       "    </tr>\n",
       "    <tr>\n",
       "      <td>0</td>\n",
       "      <td>DecisionTree</td>\n",
       "      <td>0.677777</td>\n",
       "      <td>0.638487</td>\n",
       "      <td>0.43788</td>\n",
       "      <td>0.30753</td>\n",
       "      <td>0.816221</td>\n",
       "      <td>0.159709</td>\n",
       "    </tr>\n",
       "  </tbody>\n",
       "</table>\n",
       "</div>"
      ],
      "text/plain": [
       "          model names  CVaccuracy  CVaucroc     CVF1  CVsensitivity  \\\n",
       "0  LogisticRegression    0.778782  0.499973  0.00000        0.00000   \n",
       "0        DecisionTree    0.677777  0.638487  0.43788        0.30753   \n",
       "\n",
       "   CVspecificity  CVtime(s)  \n",
       "0       1.000000   0.046707  \n",
       "0       0.816221   0.159709  "
      ]
     },
     "execution_count": 27,
     "metadata": {},
     "output_type": "execute_result"
    }
   ],
   "source": [
    "result\n"
   ]
  },
  {
   "cell_type": "code",
   "execution_count": null,
   "metadata": {},
   "outputs": [],
   "source": []
  }
 ],
 "metadata": {
  "kernelspec": {
   "display_name": "Python 3",
   "language": "python",
   "name": "python3"
  },
  "language_info": {
   "codemirror_mode": {
    "name": "ipython",
    "version": 3
   },
   "file_extension": ".py",
   "mimetype": "text/x-python",
   "name": "python",
   "nbconvert_exporter": "python",
   "pygments_lexer": "ipython3",
   "version": "3.7.4"
  }
 },
 "nbformat": 4,
 "nbformat_minor": 2
}
